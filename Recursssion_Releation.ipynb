{
 "cells": [
  {
   "cell_type": "code",
   "execution_count": null,
   "id": "dac66d8e-9421-4a1f-aeb9-1e9ce77d339e",
   "metadata": {},
   "outputs": [],
   "source": []
  },
  {
   "cell_type": "markdown",
   "id": "72d5b1d1-eef1-41db-ab18-767559c95374",
   "metadata": {
    "tags": []
   },
   "source": [
    "# Find the value of T(2) for the reccurence relation T(n)=3T(n-1)+12n, given that T(0)=5"
   ]
  },
  {
   "cell_type": "raw",
   "id": "cbda56b9-63cc-4719-b7a3-7cc539072dda",
   "metadata": {},
   "source": [
    "for n=1,  \n",
    "       \n",
    "       => T(1)=3T(1-1)+12(1)\n",
    "       \n",
    "       => T(1)=3T(0)+12(1)\n",
    "       \n",
    "       => T(1)=3(5)+12(1)     {given, T(0)=5}\n",
    "       \n",
    "       => T(1)= 15 + 12\n",
    "       \n",
    "       => T(1)= 27\n",
    "\n",
    "\n",
    "Now for n=2,\n",
    "        \n",
    "        => T(2)=3T(2-1)+12(2)\n",
    "        \n",
    "        => T(2)=3T(1) + 12(2)\n",
    "        \n",
    "        => T(2)=3(27) + 12(2)  {as the value of T(1)=27} \n",
    "        \n",
    "        => T(2)= 81 + 24\n",
    "        \n",
    "        => T(2)= 105\n",
    "        \n",
    "        \n",
    "        \n",
    "\n",
    "Hence the value of T(2) is 105"
   ]
  },
  {
   "cell_type": "code",
   "execution_count": null,
   "id": "31576af3-2e43-4b79-8041-22b6eba70d29",
   "metadata": {},
   "outputs": [],
   "source": []
  },
  {
   "cell_type": "code",
   "execution_count": null,
   "id": "c11dd3f7-e785-4e45-9ef0-2f270d459565",
   "metadata": {},
   "outputs": [],
   "source": []
  },
  {
   "cell_type": "markdown",
   "id": "781ebaa2-01c2-42f4-afc2-9f6f0fc54d8c",
   "metadata": {},
   "source": [
    "# Given a reccurence relation:T(n) = T(n-1) + c , solve it using substitution method:"
   ]
  },
  {
   "cell_type": "markdown",
   "id": "64b88565-be73-4fb5-8048-0b77b14d0abe",
   "metadata": {},
   "source": [
    "for n=1,\n",
    "=> T(1)= T(0) + c\n",
    "\n",
    "\n",
    "\n",
    "for n=2,\n",
    "=> T(2)= T(1) + c\n",
    "(by using substitution method)\n",
    "=> T(2)= T(0) + c + c\n",
    "=> T(2)= T(0) + 2c\n",
    "\n",
    "\n",
    "\n",
    "for n=3,\n",
    "=> T(3)= T(2) + c\n",
    "((by using substitution method)\n",
    "=> T(3)= T(0) +2c + c\n",
    "=> T(3)= T(0) + 3c\n",
    "\n",
    "\n",
    "\n",
    "Therefore T(n)=T(0)+ kc   (k=number of steps)\n",
    "\n",
    "time complexity: O(n)\n"
   ]
  },
  {
   "cell_type": "markdown",
   "id": "07c7fe4e-650a-4157-bc6b-252ba562fdb1",
   "metadata": {},
   "source": []
  },
  {
   "cell_type": "markdown",
   "id": "242a4afa-6864-47b2-bd4f-88e183b4986b",
   "metadata": {},
   "source": []
  },
  {
   "cell_type": "markdown",
   "id": "e740023c-e93f-4a03-90ee-26b97d31c117",
   "metadata": {},
   "source": []
  },
  {
   "cell_type": "markdown",
   "id": "b81963e3-995a-44c7-b8e9-6b5265f33684",
   "metadata": {},
   "source": []
  },
  {
   "cell_type": "markdown",
   "id": "8c8412c0-515e-472c-9cde-d84c59b0b775",
   "metadata": {},
   "source": []
  },
  {
   "cell_type": "markdown",
   "id": "8cab859e-b422-4f3b-a423-2065eea282b9",
   "metadata": {},
   "source": []
  },
  {
   "cell_type": "markdown",
   "id": "6309a7aa-a6be-4edb-85bd-10d2a9ed0cf2",
   "metadata": {},
   "source": []
  },
  {
   "cell_type": "markdown",
   "id": "f838d6dd-de2b-4f65-8afa-23d3bb6037e0",
   "metadata": {},
   "source": []
  },
  {
   "cell_type": "code",
   "execution_count": null,
   "id": "6420e62f-30a5-4ba4-abd5-3536bef6ef31",
   "metadata": {},
   "outputs": [],
   "source": []
  },
  {
   "cell_type": "code",
   "execution_count": null,
   "id": "8e5e1bad-8ed7-4dce-ab1b-0074affa97b2",
   "metadata": {},
   "outputs": [],
   "source": []
  },
  {
   "cell_type": "code",
   "execution_count": null,
   "id": "bc7e1425-d01e-488d-aff6-fa08aea366a6",
   "metadata": {},
   "outputs": [],
   "source": []
  },
  {
   "cell_type": "code",
   "execution_count": null,
   "id": "daa90874-e51c-4ca5-bd06-fbb76ed5c243",
   "metadata": {},
   "outputs": [],
   "source": []
  },
  {
   "cell_type": "code",
   "execution_count": null,
   "id": "03d1b832-4359-497e-9034-2037b72d3a03",
   "metadata": {},
   "outputs": [],
   "source": []
  },
  {
   "cell_type": "code",
   "execution_count": null,
   "id": "301594ad-9dda-4330-a2b0-938027423a70",
   "metadata": {},
   "outputs": [],
   "source": []
  },
  {
   "cell_type": "code",
   "execution_count": null,
   "id": "715bf26d-cecc-45b7-9547-94d60e664a2b",
   "metadata": {},
   "outputs": [],
   "source": []
  },
  {
   "cell_type": "code",
   "execution_count": null,
   "id": "9ff590d0-9f5f-4cea-b746-550cc8c83efc",
   "metadata": {},
   "outputs": [],
   "source": []
  },
  {
   "cell_type": "code",
   "execution_count": null,
   "id": "41e8e766-3f20-42fa-b292-2e69df10a131",
   "metadata": {},
   "outputs": [],
   "source": []
  },
  {
   "cell_type": "code",
   "execution_count": null,
   "id": "c72ce4ef-0527-44bc-bf5a-8f7f47e39603",
   "metadata": {},
   "outputs": [],
   "source": []
  },
  {
   "cell_type": "code",
   "execution_count": null,
   "id": "26885ae0-1275-461a-ac9b-d3e5944021f0",
   "metadata": {},
   "outputs": [],
   "source": []
  },
  {
   "cell_type": "code",
   "execution_count": null,
   "id": "eb492cdc-de2c-4a47-a5e9-84df9b10f7a5",
   "metadata": {},
   "outputs": [],
   "source": []
  }
 ],
 "metadata": {
  "kernelspec": {
   "display_name": "Python 3 (ipykernel)",
   "language": "python",
   "name": "python3"
  },
  "language_info": {
   "codemirror_mode": {
    "name": "ipython",
    "version": 3
   },
   "file_extension": ".py",
   "mimetype": "text/x-python",
   "name": "python",
   "nbconvert_exporter": "python",
   "pygments_lexer": "ipython3",
   "version": "3.10.8"
  }
 },
 "nbformat": 4,
 "nbformat_minor": 5
}
